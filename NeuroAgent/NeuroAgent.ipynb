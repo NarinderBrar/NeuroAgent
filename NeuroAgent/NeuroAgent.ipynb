{
 "cells": [
  {
   "cell_type": "code",
   "execution_count": 125,
   "metadata": {},
   "outputs": [],
   "source": [
    "import IPython.display\n",
    "\n",
    "import os\n",
    "import sys\n",
    "import inspect"
   ]
  },
  {
   "cell_type": "code",
   "execution_count": 126,
   "metadata": {},
   "outputs": [
    {
     "data": {
      "text/plain": [
       "True"
      ]
     },
     "execution_count": 126,
     "metadata": {},
     "output_type": "execute_result"
    }
   ],
   "source": [
    "from simulation.unity_simulator import comm_unity\n",
    "comm = comm_unity.UnityCommunication()\n",
    "comm.reset(0)"
   ]
  },
  {
   "cell_type": "code",
   "execution_count": 127,
   "metadata": {},
   "outputs": [
    {
     "data": {
      "text/plain": [
       "True"
      ]
     },
     "execution_count": 127,
     "metadata": {},
     "output_type": "execute_result"
    }
   ],
   "source": [
    "comm.add_character('Chars/Female2', initial_room='kitchen', position=[-3, 0, -3])\n",
    "comm.add_character('Chars/Male2', initial_room='kitchen', position=[-2, 0, -5])"
   ]
  },
  {
   "cell_type": "code",
   "execution_count": null,
   "metadata": {},
   "outputs": [],
   "source": []
  },
  {
   "cell_type": "code",
   "execution_count": 128,
   "metadata": {},
   "outputs": [],
   "source": [
    "actions = {\n",
    "    \"walk\": False,\n",
    "    \"grab\": False,\n",
    "    \"open\": False,\n",
    "    \"putin\": False,\n",
    "    \"close\": False\n",
    "}\n",
    "\n",
    "objects = {\n",
    "    \"salmon\":False,\n",
    "    \"microwave\":False\n",
    "}"
   ]
  },
  {
   "cell_type": "markdown",
   "metadata": {},
   "source": [
    "# Task 0"
   ]
  },
  {
   "cell_type": "code",
   "execution_count": 129,
   "metadata": {},
   "outputs": [],
   "source": [
    "actions[\"walk\"] = True\n",
    "objects[\"salmon\"] = True\n",
    "script0 = ['<char0> [walk] <salmon> (328)']\n",
    "task0 = comm.render_script(script0, recording=True, frame_rate=10, camera_mode=[\"PERSON_FROM_BACK\"])"
   ]
  },
  {
   "cell_type": "code",
   "execution_count": null,
   "metadata": {},
   "outputs": [],
   "source": []
  },
  {
   "cell_type": "markdown",
   "metadata": {},
   "source": [
    "# Task 1"
   ]
  },
  {
   "cell_type": "code",
   "execution_count": 130,
   "metadata": {},
   "outputs": [],
   "source": [
    "actions[\"grab\"] = True\n",
    "objects[\"salmon\"] = True\n",
    "script1 = ['<char0> [grab] <salmon> (328)']\n",
    "tasks1 = comm.render_script(script1, recording=True, frame_rate=10, camera_mode=[\"PERSON_FROM_BACK\"])"
   ]
  },
  {
   "cell_type": "code",
   "execution_count": null,
   "metadata": {},
   "outputs": [],
   "source": []
  },
  {
   "cell_type": "markdown",
   "metadata": {},
   "source": [
    "# Task 2"
   ]
  },
  {
   "cell_type": "code",
   "execution_count": null,
   "metadata": {},
   "outputs": [],
   "source": [
    "actions[\"open\"] = True\n",
    "objects[\"microwave\"] = True\n",
    "script2 = ['<char0> [open] <microwave> (314)']\n",
    "tasks2 = comm.render_script(script2, recording=True, frame_rate=10, camera_mode=[\"PERSON_FROM_BACK\"])"
   ]
  },
  {
   "cell_type": "code",
   "execution_count": null,
   "metadata": {},
   "outputs": [],
   "source": []
  },
  {
   "cell_type": "markdown",
   "metadata": {},
   "source": [
    "# Task 3"
   ]
  },
  {
   "cell_type": "code",
   "execution_count": null,
   "metadata": {},
   "outputs": [],
   "source": [
    "actions[\"putin\"] = True\n",
    "objects[\"salmon\"] = True\n",
    "objects[\"microwave\"] = True\n",
    "script3 = ['<char0> [putin] <salmon> (328) <microwave> (314) | <char1> [walkforward]']\n",
    "tasks3 = comm.render_script(script3, recording=True, frame_rate=10, camera_mode=[\"PERSON_FROM_BACK\"])"
   ]
  },
  {
   "cell_type": "code",
   "execution_count": null,
   "metadata": {},
   "outputs": [],
   "source": []
  },
  {
   "cell_type": "markdown",
   "metadata": {},
   "source": [
    "# Task 4"
   ]
  },
  {
   "cell_type": "code",
   "execution_count": null,
   "metadata": {},
   "outputs": [],
   "source": [
    "actions[\"close\"] = True\n",
    "objects[\"microwave\"] = True\n",
    "script4 = ['<char0> [close] <microwave> (314) | <char1> [walkforward]  | <char1> [turnleft']\n",
    "tasks4 = comm.render_script(script4, recording=True, frame_rate=10, camera_mode=[\"PERSON_FROM_BACK\"])"
   ]
  },
  {
   "cell_type": "code",
   "execution_count": null,
   "metadata": {},
   "outputs": [],
   "source": []
  },
  {
   "cell_type": "code",
   "execution_count": null,
   "metadata": {},
   "outputs": [],
   "source": [
    "#comm.reset(0)"
   ]
  },
  {
   "cell_type": "code",
   "execution_count": null,
   "metadata": {},
   "outputs": [],
   "source": [
    "#comm.add_character('Chars/Male2', initial_room='kitchen', position=[-3, 0, -3])\n",
    "#comm.add_character('Chars/Female2', initial_room='kitchen', position=[-2, 0, -4] )"
   ]
  },
  {
   "cell_type": "code",
   "execution_count": null,
   "metadata": {},
   "outputs": [],
   "source": [
    "#actions[\"walk\"] = True\n",
    "#objects[\"salmon\"] = True\n",
    "#script0 = ['<char0> [walk] <salmon> (328)']\n",
    "#task0 = comm.render_script(script0, recording=True, frame_rate=10, camera_mode=[\"PERSON_FROM_BACK\"])"
   ]
  },
  {
   "cell_type": "code",
   "execution_count": null,
   "metadata": {},
   "outputs": [],
   "source": []
  }
 ],
 "metadata": {
  "kernelspec": {
   "display_name": "Python 3",
   "language": "python",
   "name": "python3"
  },
  "language_info": {
   "codemirror_mode": {
    "name": "ipython",
    "version": 3
   },
   "file_extension": ".py",
   "mimetype": "text/x-python",
   "name": "python",
   "nbconvert_exporter": "python",
   "pygments_lexer": "ipython3",
   "version": "3.8.5"
  }
 },
 "nbformat": 4,
 "nbformat_minor": 4
}
